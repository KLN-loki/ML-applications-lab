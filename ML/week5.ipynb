{
 "cells": [
  {
   "cell_type": "code",
   "execution_count": 2,
   "metadata": {},
   "outputs": [],
   "source": [
    "import matplotlib.pyplot as plt\n",
    "import numpy as np\n",
    "import pandas as pd\n",
    "from sklearn import datasets, linear_model\n",
    "from sklearn.metrics import mean_squared_error, accuracy_score"
   ]
  },
  {
   "cell_type": "code",
   "execution_count": 3,
   "metadata": {},
   "outputs": [
    {
     "name": "stdout",
     "output_type": "stream",
     "text": [
      "Features:  ['age', 'sex', 'bmi', 'bp', 's1', 's2', 's3', 's4', 's5', 's6']\n"
     ]
    },
    {
     "data": {
      "text/html": [
       "<div>\n",
       "<style scoped>\n",
       "    .dataframe tbody tr th:only-of-type {\n",
       "        vertical-align: middle;\n",
       "    }\n",
       "\n",
       "    .dataframe tbody tr th {\n",
       "        vertical-align: top;\n",
       "    }\n",
       "\n",
       "    .dataframe thead th {\n",
       "        text-align: right;\n",
       "    }\n",
       "</style>\n",
       "<table border=\"1\" class=\"dataframe\">\n",
       "  <thead>\n",
       "    <tr style=\"text-align: right;\">\n",
       "      <th></th>\n",
       "      <th>BMI(Body mass Index)</th>\n",
       "      <th>diabetes_value</th>\n",
       "    </tr>\n",
       "  </thead>\n",
       "  <tbody>\n",
       "    <tr>\n",
       "      <th>0</th>\n",
       "      <td>0.061696</td>\n",
       "      <td>151.0</td>\n",
       "    </tr>\n",
       "    <tr>\n",
       "      <th>1</th>\n",
       "      <td>-0.051474</td>\n",
       "      <td>75.0</td>\n",
       "    </tr>\n",
       "    <tr>\n",
       "      <th>2</th>\n",
       "      <td>0.044451</td>\n",
       "      <td>141.0</td>\n",
       "    </tr>\n",
       "    <tr>\n",
       "      <th>3</th>\n",
       "      <td>-0.011595</td>\n",
       "      <td>206.0</td>\n",
       "    </tr>\n",
       "    <tr>\n",
       "      <th>4</th>\n",
       "      <td>-0.036385</td>\n",
       "      <td>135.0</td>\n",
       "    </tr>\n",
       "    <tr>\n",
       "      <th>...</th>\n",
       "      <td>...</td>\n",
       "      <td>...</td>\n",
       "    </tr>\n",
       "    <tr>\n",
       "      <th>437</th>\n",
       "      <td>0.019662</td>\n",
       "      <td>178.0</td>\n",
       "    </tr>\n",
       "    <tr>\n",
       "      <th>438</th>\n",
       "      <td>-0.015906</td>\n",
       "      <td>104.0</td>\n",
       "    </tr>\n",
       "    <tr>\n",
       "      <th>439</th>\n",
       "      <td>-0.015906</td>\n",
       "      <td>132.0</td>\n",
       "    </tr>\n",
       "    <tr>\n",
       "      <th>440</th>\n",
       "      <td>0.039062</td>\n",
       "      <td>220.0</td>\n",
       "    </tr>\n",
       "    <tr>\n",
       "      <th>441</th>\n",
       "      <td>-0.073030</td>\n",
       "      <td>57.0</td>\n",
       "    </tr>\n",
       "  </tbody>\n",
       "</table>\n",
       "<p>442 rows × 2 columns</p>\n",
       "</div>"
      ],
      "text/plain": [
       "     BMI(Body mass Index)  diabetes_value\n",
       "0                0.061696           151.0\n",
       "1               -0.051474            75.0\n",
       "2                0.044451           141.0\n",
       "3               -0.011595           206.0\n",
       "4               -0.036385           135.0\n",
       "..                    ...             ...\n",
       "437              0.019662           178.0\n",
       "438             -0.015906           104.0\n",
       "439             -0.015906           132.0\n",
       "440              0.039062           220.0\n",
       "441             -0.073030            57.0\n",
       "\n",
       "[442 rows x 2 columns]"
      ]
     },
     "execution_count": 3,
     "metadata": {},
     "output_type": "execute_result"
    }
   ],
   "source": [
    "# dataset\n",
    "diabetes = datasets.load_diabetes()\n",
    "print(\"Features: \", diabetes.feature_names)\n",
    "labels = diabetes.target\n",
    "data = np.array(diabetes.data[:, 2])\n",
    "data_df = pd.DataFrame({'BMI(Body mass Index)':data,'diabetes_value':labels})\n",
    "data_df = data_df[['BMI(Body mass Index)','diabetes_value']]\n",
    "data_df"
   ]
  },
  {
   "cell_type": "code",
   "execution_count": 4,
   "metadata": {},
   "outputs": [
    {
     "name": "stdout",
     "output_type": "stream",
     "text": [
      "diabetes_Y_predict:  [121.23026398 245.8342223  204.64283112 270.54905701  75.91973368\n",
      " 241.71508318 104.75370751 141.82595957 126.37918788 208.76197024\n",
      " 234.50658973 152.12380737 159.33230082 161.39187038 229.35766583\n",
      " 221.11938759 129.46854222 100.63456839 118.14090964 168.60036384\n",
      " 227.29809627 115.0515553  163.45143994 114.02177053 120.2004792\n",
      " 158.30251604 237.59594406 121.23026398  98.57499883 123.28983354\n",
      " 205.6726159   95.48564449 154.18337693 130.498327    82.09844236\n",
      " 171.68971818 137.70682045 137.70682045 190.22584421  83.12822714]\n",
      "prediction for user_input:  [192196.34646911]\n",
      "Mean squared error is:  3309.1621446205377\n",
      "Weights:  [955.44001079]\n",
      "Intercept:  152.90430035543224\n"
     ]
    },
    {
     "data": {
      "image/png": "[encoded data removed]",
      "text/plain": [
       "<Figure size 640x480 with 1 Axes>"
      ]
     },
     "metadata": {},
     "output_type": "display_data"
    }
   ],
   "source": [
    "diabetes_X = diabetes.data[:, np.newaxis, 2]\n",
    "\n",
    "# Training dataset\n",
    "diabetes_X_train = diabetes_X[:-40]\n",
    "diabetes_Y_train = diabetes.target[:-40]\n",
    "\n",
    "\n",
    "# Testing dataset\n",
    "diabetes_X_test = diabetes_X[-40:]\n",
    "diabetes_Y_test = diabetes.target[-40:]\n",
    "\n",
    "\n",
    "model = linear_model.LinearRegression()\n",
    "model.fit(diabetes_X_train, diabetes_Y_train)\n",
    "\n",
    "diabetes_Y_predict = model.predict(diabetes_X_test)\n",
    "print(\"diabetes_Y_predict: \", diabetes_Y_predict)\n",
    "user_input = np.array([[201]])\n",
    "predict = model.predict(user_input)\n",
    "print(\"prediction for user_input: \", predict)\n",
    "\n",
    "print(\"Mean squared error is: \", mean_squared_error(diabetes_Y_test, diabetes_Y_predict))\n",
    "\n",
    "\n",
    "print(\"Weights: \", model.coef_)\n",
    "print(\"Intercept: \", model.intercept_)\n",
    "\n",
    "plt.xlabel(\"BMI\")\n",
    "plt.ylabel(\"Diabetes_level\")\n",
    "plt.scatter(diabetes_X_test, diabetes_Y_test)\n",
    "plt.plot(diabetes_X_test, diabetes_Y_predict)\n",
    "plt.show()\n",
    "\n"
   ]
  }
 ],
 "metadata": {
  "kernelspec": {
   "display_name": "Python 3",
   "language": "python",
   "name": "python3"
  },
  "language_info": {
   "codemirror_mode": {
    "name": "ipython",
    "version": 3
   },
   "file_extension": ".py",
   "mimetype": "text/x-python",
   "name": "python",
   "nbconvert_exporter": "python",
   "pygments_lexer": "ipython3",
   "version": "3.11.8"
  }
 },
 "nbformat": 4,
 "nbformat_minor": 2
}
